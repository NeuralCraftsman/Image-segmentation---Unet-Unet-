{
 "cells": [
  {
   "cell_type": "code",
   "execution_count": 1,
   "id": "dbbd6575",
   "metadata": {},
   "outputs": [],
   "source": [
    "import os\n",
    "import random\n",
    "import numpy as np\n",
    "from tqdm import tqdm \n",
    "\n",
    "from skimage.io import imread, imshow\n",
    "from skimage.transform import resize\n",
    "import matplotlib.pyplot as plt"
   ]
  },
  {
   "cell_type": "code",
   "execution_count": 2,
   "id": "38400ece",
   "metadata": {},
   "outputs": [
    {
     "name": "stdout",
     "output_type": "stream",
     "text": [
      "Num GPUs Available:  1\n"
     ]
    }
   ],
   "source": [
    "import tensorflow as tf\n",
    "print(\"Num GPUs Available: \", len(tf.config.list_physical_devices('GPU'))) "
   ]
  },
  {
   "cell_type": "code",
   "execution_count": 3,
   "id": "8236be04",
   "metadata": {},
   "outputs": [
    {
     "name": "stdout",
     "output_type": "stream",
     "text": [
      "Resizing training images and masks\n"
     ]
    },
    {
     "name": "stderr",
     "output_type": "stream",
     "text": [
      "100%|██████████| 670/670 [06:48<00:00,  1.64it/s]\n"
     ]
    },
    {
     "name": "stdout",
     "output_type": "stream",
     "text": [
      "Resizing test images\n"
     ]
    },
    {
     "name": "stderr",
     "output_type": "stream",
     "text": [
      "100%|██████████| 65/65 [00:01<00:00, 40.92it/s]"
     ]
    },
    {
     "name": "stdout",
     "output_type": "stream",
     "text": [
      "Done!\n"
     ]
    },
    {
     "name": "stderr",
     "output_type": "stream",
     "text": [
      "\n"
     ]
    }
   ],
   "source": [
    "IMG_WIDTH = 128\n",
    "IMG_HEIGHT = 128\n",
    "IMG_CHANNELS = 3\n",
    "\n",
    "TRAIN_PATH = 'C:/Users/Admin/Downloads/stage1_train/'\n",
    "TEST_PATH = 'C:/Users/Admin/Downloads/stage1_test/'\n",
    "\n",
    "train_ids = next(os.walk(TRAIN_PATH))[1]\n",
    "test_ids = next(os.walk(TEST_PATH))[1]\n",
    "\n",
    "X_train = np.zeros((len(train_ids), IMG_HEIGHT, IMG_WIDTH, IMG_CHANNELS), dtype=np.uint8)\n",
    "Y_train = np.zeros((len(train_ids), IMG_HEIGHT, IMG_WIDTH, 1), dtype=np.bool_)\n",
    "\n",
    "print('Resizing training images and masks')\n",
    "for n, id_ in tqdm(enumerate(train_ids), total=len(train_ids)):   \n",
    "    path = TRAIN_PATH + id_\n",
    "    img = imread(path + '/images/' + id_ + '.png')[:,:,:IMG_CHANNELS]  \n",
    "    img = resize(img, (IMG_HEIGHT, IMG_WIDTH), mode='constant', preserve_range=True)\n",
    "    X_train[n] = img  #Fill empty X_train with values from img\n",
    "    mask = np.zeros((IMG_HEIGHT, IMG_WIDTH, 1), dtype=np.bool_)\n",
    "    for mask_file in next(os.walk(path + '/masks/'))[2]:\n",
    "        if not mask_file.endswith('.png'):\n",
    "            continue  # Skip non-image files like .DS_Store\n",
    "        mask_ = imread(path + '/masks/' + mask_file)\n",
    "        mask_ = np.expand_dims(resize(mask_, (IMG_HEIGHT, IMG_WIDTH), mode='constant',  \n",
    "                                      preserve_range=True), axis=-1)\n",
    "        mask = np.maximum(mask, mask_) \n",
    "    Y_train[n] = mask   \n",
    "\n",
    "# test images\n",
    "X_test = np.zeros((len(test_ids), IMG_HEIGHT, IMG_WIDTH, IMG_CHANNELS), dtype=np.uint8)\n",
    "sizes_test = []\n",
    "print('Resizing test images') \n",
    "for n, id_ in tqdm(enumerate(test_ids), total=len(test_ids)):\n",
    "    path = TEST_PATH + id_\n",
    "    img = imread(path + '/images/' + id_ + '.png')[:,:,:IMG_CHANNELS]\n",
    "    sizes_test.append([img.shape[0], img.shape[1]])\n",
    "    img = resize(img, (IMG_HEIGHT, IMG_WIDTH), mode='constant', preserve_range=True)\n",
    "    X_test[n] = img\n",
    "\n",
    "print('Done!')"
   ]
  },
  {
   "cell_type": "code",
   "execution_count": 4,
   "id": "a48466b6",
   "metadata": {},
   "outputs": [
    {
     "data": {
      "image/png": "[encoded data removed]",
      "text/plain": [
       "<Figure size 432x288 with 1 Axes>"
      ]
     },
     "metadata": {
      "needs_background": "light"
     },
     "output_type": "display_data"
    },
    {
     "data": {
      "image/png": "[encoded data removed]",
      "text/plain": [
       "<Figure size 432x288 with 1 Axes>"
      ]
     },
     "metadata": {
      "needs_background": "light"
     },
     "output_type": "display_data"
    }
   ],
   "source": [
    "image_x = random.randint(0, len(train_ids))\n",
    "imshow(X_train[image_x])\n",
    "plt.show()\n",
    "imshow(np.squeeze(Y_train[image_x]))\n",
    "plt.show()"
   ]
  },
  {
   "cell_type": "code",
   "execution_count": 10,
   "id": "a570c4c4",
   "metadata": {},
   "outputs": [
    {
     "name": "stdout",
     "output_type": "stream",
     "text": [
      "Model: \"model_1\"\n",
      "__________________________________________________________________________________________________\n",
      "Layer (type)                    Output Shape         Param #     Connected to                     \n",
      "==================================================================================================\n",
      "input_2 (InputLayer)            [(None, 128, 128, 3) 0                                            \n",
      "__________________________________________________________________________________________________\n",
      "lambda_1 (Lambda)               (None, 128, 128, 3)  0           input_2[0][0]                    \n",
      "__________________________________________________________________________________________________\n",
      "conv2d_19 (Conv2D)              (None, 128, 128, 32) 896         lambda_1[0][0]                   \n",
      "__________________________________________________________________________________________________\n",
      "conv2d_20 (Conv2D)              (None, 128, 128, 32) 9248        conv2d_19[0][0]                  \n",
      "__________________________________________________________________________________________________\n",
      "max_pooling2d_4 (MaxPooling2D)  (None, 64, 64, 32)   0           conv2d_20[0][0]                  \n",
      "__________________________________________________________________________________________________\n",
      "conv2d_21 (Conv2D)              (None, 64, 64, 64)   18496       max_pooling2d_4[0][0]            \n",
      "__________________________________________________________________________________________________\n",
      "conv2d_22 (Conv2D)              (None, 64, 64, 64)   36928       conv2d_21[0][0]                  \n",
      "__________________________________________________________________________________________________\n",
      "max_pooling2d_5 (MaxPooling2D)  (None, 32, 32, 64)   0           conv2d_22[0][0]                  \n",
      "__________________________________________________________________________________________________\n",
      "conv2d_23 (Conv2D)              (None, 32, 32, 128)  73856       max_pooling2d_5[0][0]            \n",
      "__________________________________________________________________________________________________\n",
      "conv2d_24 (Conv2D)              (None, 32, 32, 128)  147584      conv2d_23[0][0]                  \n",
      "__________________________________________________________________________________________________\n",
      "max_pooling2d_6 (MaxPooling2D)  (None, 16, 16, 128)  0           conv2d_24[0][0]                  \n",
      "__________________________________________________________________________________________________\n",
      "conv2d_25 (Conv2D)              (None, 16, 16, 256)  295168      max_pooling2d_6[0][0]            \n",
      "__________________________________________________________________________________________________\n",
      "conv2d_26 (Conv2D)              (None, 16, 16, 256)  590080      conv2d_25[0][0]                  \n",
      "__________________________________________________________________________________________________\n",
      "dropout_9 (Dropout)             (None, 16, 16, 256)  0           conv2d_26[0][0]                  \n",
      "__________________________________________________________________________________________________\n",
      "max_pooling2d_7 (MaxPooling2D)  (None, 8, 8, 256)    0           dropout_9[0][0]                  \n",
      "__________________________________________________________________________________________________\n",
      "conv2d_27 (Conv2D)              (None, 8, 8, 512)    1180160     max_pooling2d_7[0][0]            \n",
      "__________________________________________________________________________________________________\n",
      "conv2d_28 (Conv2D)              (None, 8, 8, 512)    2359808     conv2d_27[0][0]                  \n",
      "__________________________________________________________________________________________________\n",
      "dropout_10 (Dropout)            (None, 8, 8, 512)    0           conv2d_28[0][0]                  \n",
      "__________________________________________________________________________________________________\n",
      "up_sampling2d (UpSampling2D)    (None, 16, 16, 512)  0           dropout_10[0][0]                 \n",
      "__________________________________________________________________________________________________\n",
      "max_pooling2d_8 (MaxPooling2D)  (None, 16, 16, 128)  0           conv2d_24[0][0]                  \n",
      "__________________________________________________________________________________________________\n",
      "max_pooling2d_9 (MaxPooling2D)  (None, 16, 16, 64)   0           conv2d_22[0][0]                  \n",
      "__________________________________________________________________________________________________\n",
      "max_pooling2d_10 (MaxPooling2D) (None, 16, 16, 32)   0           conv2d_20[0][0]                  \n",
      "__________________________________________________________________________________________________\n",
      "conv2d_29 (Conv2D)              (None, 16, 16, 32)   147488      up_sampling2d[0][0]              \n",
      "__________________________________________________________________________________________________\n",
      "conv2d_30 (Conv2D)              (None, 16, 16, 32)   73760       dropout_9[0][0]                  \n",
      "__________________________________________________________________________________________________\n",
      "conv2d_31 (Conv2D)              (None, 16, 16, 32)   36896       max_pooling2d_8[0][0]            \n",
      "__________________________________________________________________________________________________\n",
      "conv2d_32 (Conv2D)              (None, 16, 16, 32)   18464       max_pooling2d_9[0][0]            \n",
      "__________________________________________________________________________________________________\n",
      "conv2d_33 (Conv2D)              (None, 16, 16, 32)   9248        max_pooling2d_10[0][0]           \n",
      "__________________________________________________________________________________________________\n",
      "concatenate_4 (Concatenate)     (None, 16, 16, 160)  0           conv2d_29[0][0]                  \n",
      "                                                                 conv2d_30[0][0]                  \n",
      "                                                                 conv2d_31[0][0]                  \n",
      "                                                                 conv2d_32[0][0]                  \n",
      "                                                                 conv2d_33[0][0]                  \n",
      "__________________________________________________________________________________________________\n",
      "conv2d_34 (Conv2D)              (None, 16, 16, 320)  461120      concatenate_4[0][0]              \n",
      "__________________________________________________________________________________________________\n",
      "batch_normalization (BatchNorma (None, 16, 16, 320)  1280        conv2d_34[0][0]                  \n",
      "__________________________________________________________________________________________________\n",
      "re_lu (ReLU)                    (None, 16, 16, 320)  0           batch_normalization[0][0]        \n",
      "__________________________________________________________________________________________________\n",
      "up_sampling2d_1 (UpSampling2D)  (None, 32, 32, 512)  0           dropout_10[0][0]                 \n",
      "__________________________________________________________________________________________________\n",
      "up_sampling2d_2 (UpSampling2D)  (None, 32, 32, 320)  0           re_lu[0][0]                      \n",
      "__________________________________________________________________________________________________\n",
      "max_pooling2d_11 (MaxPooling2D) (None, 32, 32, 64)   0           conv2d_22[0][0]                  \n",
      "__________________________________________________________________________________________________\n",
      "max_pooling2d_12 (MaxPooling2D) (None, 32, 32, 32)   0           conv2d_20[0][0]                  \n",
      "__________________________________________________________________________________________________\n",
      "conv2d_35 (Conv2D)              (None, 32, 32, 32)   147488      up_sampling2d_1[0][0]            \n",
      "__________________________________________________________________________________________________\n",
      "conv2d_36 (Conv2D)              (None, 32, 32, 32)   92192       up_sampling2d_2[0][0]            \n",
      "__________________________________________________________________________________________________\n",
      "conv2d_37 (Conv2D)              (None, 32, 32, 32)   36896       conv2d_24[0][0]                  \n",
      "__________________________________________________________________________________________________\n",
      "conv2d_38 (Conv2D)              (None, 32, 32, 32)   18464       max_pooling2d_11[0][0]           \n",
      "__________________________________________________________________________________________________\n",
      "conv2d_39 (Conv2D)              (None, 32, 32, 32)   9248        max_pooling2d_12[0][0]           \n",
      "__________________________________________________________________________________________________\n",
      "concatenate_5 (Concatenate)     (None, 32, 32, 160)  0           conv2d_35[0][0]                  \n",
      "                                                                 conv2d_36[0][0]                  \n",
      "                                                                 conv2d_37[0][0]                  \n",
      "                                                                 conv2d_38[0][0]                  \n",
      "                                                                 conv2d_39[0][0]                  \n",
      "__________________________________________________________________________________________________\n",
      "conv2d_40 (Conv2D)              (None, 32, 32, 320)  461120      concatenate_5[0][0]              \n",
      "__________________________________________________________________________________________________\n",
      "batch_normalization_1 (BatchNor (None, 32, 32, 320)  1280        conv2d_40[0][0]                  \n",
      "__________________________________________________________________________________________________\n",
      "re_lu_1 (ReLU)                  (None, 32, 32, 320)  0           batch_normalization_1[0][0]      \n",
      "__________________________________________________________________________________________________\n",
      "up_sampling2d_3 (UpSampling2D)  (None, 64, 64, 512)  0           dropout_10[0][0]                 \n",
      "__________________________________________________________________________________________________\n",
      "up_sampling2d_4 (UpSampling2D)  (None, 64, 64, 256)  0           dropout_9[0][0]                  \n",
      "__________________________________________________________________________________________________\n",
      "up_sampling2d_5 (UpSampling2D)  (None, 64, 64, 320)  0           re_lu_1[0][0]                    \n",
      "__________________________________________________________________________________________________\n",
      "max_pooling2d_13 (MaxPooling2D) (None, 64, 64, 32)   0           conv2d_20[0][0]                  \n",
      "__________________________________________________________________________________________________\n",
      "conv2d_41 (Conv2D)              (None, 64, 64, 32)   147488      up_sampling2d_3[0][0]            \n",
      "__________________________________________________________________________________________________\n",
      "conv2d_42 (Conv2D)              (None, 64, 64, 32)   73760       up_sampling2d_4[0][0]            \n",
      "__________________________________________________________________________________________________\n",
      "conv2d_43 (Conv2D)              (None, 64, 64, 32)   92192       up_sampling2d_5[0][0]            \n",
      "__________________________________________________________________________________________________\n",
      "conv2d_44 (Conv2D)              (None, 64, 64, 32)   18464       conv2d_22[0][0]                  \n",
      "__________________________________________________________________________________________________\n",
      "conv2d_45 (Conv2D)              (None, 64, 64, 32)   9248        max_pooling2d_13[0][0]           \n",
      "__________________________________________________________________________________________________\n",
      "concatenate_6 (Concatenate)     (None, 64, 64, 160)  0           conv2d_41[0][0]                  \n",
      "                                                                 conv2d_42[0][0]                  \n",
      "                                                                 conv2d_43[0][0]                  \n",
      "                                                                 conv2d_44[0][0]                  \n",
      "                                                                 conv2d_45[0][0]                  \n",
      "__________________________________________________________________________________________________\n",
      "conv2d_46 (Conv2D)              (None, 64, 64, 320)  461120      concatenate_6[0][0]              \n",
      "__________________________________________________________________________________________________\n",
      "batch_normalization_2 (BatchNor (None, 64, 64, 320)  1280        conv2d_46[0][0]                  \n",
      "__________________________________________________________________________________________________\n",
      "re_lu_2 (ReLU)                  (None, 64, 64, 320)  0           batch_normalization_2[0][0]      \n",
      "__________________________________________________________________________________________________\n",
      "up_sampling2d_6 (UpSampling2D)  (None, 128, 128, 512 0           dropout_10[0][0]                 \n",
      "__________________________________________________________________________________________________\n",
      "up_sampling2d_7 (UpSampling2D)  (None, 128, 128, 256 0           dropout_9[0][0]                  \n",
      "__________________________________________________________________________________________________\n",
      "up_sampling2d_8 (UpSampling2D)  (None, 128, 128, 128 0           conv2d_24[0][0]                  \n",
      "__________________________________________________________________________________________________\n",
      "up_sampling2d_9 (UpSampling2D)  (None, 128, 128, 320 0           re_lu_2[0][0]                    \n",
      "__________________________________________________________________________________________________\n",
      "conv2d_47 (Conv2D)              (None, 128, 128, 32) 147488      up_sampling2d_6[0][0]            \n",
      "__________________________________________________________________________________________________\n",
      "conv2d_48 (Conv2D)              (None, 128, 128, 32) 73760       up_sampling2d_7[0][0]            \n",
      "__________________________________________________________________________________________________\n",
      "conv2d_49 (Conv2D)              (None, 128, 128, 32) 36896       up_sampling2d_8[0][0]            \n",
      "__________________________________________________________________________________________________\n",
      "conv2d_50 (Conv2D)              (None, 128, 128, 32) 92192       up_sampling2d_9[0][0]            \n",
      "__________________________________________________________________________________________________\n",
      "conv2d_51 (Conv2D)              (None, 128, 128, 32) 9248        conv2d_20[0][0]                  \n",
      "__________________________________________________________________________________________________\n",
      "concatenate_7 (Concatenate)     (None, 128, 128, 160 0           conv2d_47[0][0]                  \n",
      "                                                                 conv2d_48[0][0]                  \n",
      "                                                                 conv2d_49[0][0]                  \n",
      "                                                                 conv2d_50[0][0]                  \n",
      "                                                                 conv2d_51[0][0]                  \n",
      "__________________________________________________________________________________________________\n",
      "conv2d_52 (Conv2D)              (None, 128, 128, 320 461120      concatenate_7[0][0]              \n",
      "__________________________________________________________________________________________________\n",
      "batch_normalization_3 (BatchNor (None, 128, 128, 320 1280        conv2d_52[0][0]                  \n",
      "__________________________________________________________________________________________________\n",
      "re_lu_3 (ReLU)                  (None, 128, 128, 320 0           batch_normalization_3[0][0]      \n",
      "__________________________________________________________________________________________________\n",
      "conv2d_53 (Conv2D)              (None, 128, 128, 160 460960      re_lu_3[0][0]                    \n",
      "__________________________________________________________________________________________________\n",
      "conv2d_54 (Conv2D)              (None, 128, 128, 1)  1441        conv2d_53[0][0]                  \n",
      "==================================================================================================\n",
      "Total params: 8,315,105\n",
      "Trainable params: 8,312,545\n",
      "Non-trainable params: 2,560\n",
      "__________________________________________________________________________________________________\n"
     ]
    }
   ],
   "source": [
    "                                                # UNet++ Model\n",
    "\n",
    "import tensorflow as tf\n",
    "from tensorflow.keras.layers import Input, Conv2D, MaxPooling2D, UpSampling2D, concatenate, BatchNormalization, ReLU, Dropout\n",
    "from tensorflow.keras.models import Model\n",
    "\n",
    "# Define the input shape\n",
    "inputs = Input((IMG_WIDTH, IMG_HEIGHT, IMG_CHANNELS))\n",
    "s = tf.keras.layers.Lambda(lambda x: x / 255)(inputs)\n",
    "\n",
    "# Define the U-Net model architecture\n",
    "conv_num = 32\n",
    "\n",
    "XE1 = Conv2D(conv_num, 3, activation='relu', padding='same', kernel_initializer='he_normal')(s)\n",
    "XE1 = Conv2D(conv_num, 3, activation='relu', padding='same', kernel_initializer='he_normal')(XE1)\n",
    "XE1_pool = MaxPooling2D(pool_size=(2, 2))(XE1)\n",
    "\n",
    "XE2 = Conv2D(conv_num * 2, 3, activation='relu', padding='same', kernel_initializer='he_normal')(XE1_pool)\n",
    "XE2 = Conv2D(conv_num * 2, 3, activation='relu', padding='same', kernel_initializer='he_normal')(XE2)\n",
    "XE2_pool = MaxPooling2D(pool_size=(2, 2))(XE2)\n",
    "\n",
    "XE3 = Conv2D(conv_num * 4, 3, activation='relu', padding='same', kernel_initializer='he_normal')(XE2_pool)\n",
    "XE3 = Conv2D(conv_num * 4, 3, activation='relu', padding='same', kernel_initializer='he_normal')(XE3)\n",
    "XE3_pool = MaxPooling2D(pool_size=(2, 2))(XE3)\n",
    "\n",
    "XE4 = Conv2D(conv_num * 8, 3, activation='relu', padding='same', kernel_initializer='he_normal')(XE3_pool)\n",
    "XE4 = Conv2D(conv_num * 8, 3, activation='relu', padding='same', kernel_initializer='he_normal')(XE4)\n",
    "XE4 = Dropout(0.5)(XE4)\n",
    "XE4_pool = MaxPooling2D(pool_size=(2, 2))(XE4)\n",
    "\n",
    "XE5 = Conv2D(conv_num * 16, 3, activation='relu', padding='same', kernel_initializer='he_normal')(XE4_pool)\n",
    "XE5 = Conv2D(conv_num * 16, 3, activation='relu', padding='same', kernel_initializer='he_normal')(XE5)\n",
    "XE5 = Dropout(0.5)(XE5)\n",
    "\n",
    "XD4_from_XE5 = UpSampling2D(size=(2, 2), interpolation='bilinear')(XE5)\n",
    "XD4_from_XE5 = Conv2D(conv_num, 3, activation='relu', padding='same', kernel_initializer='he_normal')(XD4_from_XE5)\n",
    "XD4_from_XE4 = Conv2D(conv_num, 3, activation='relu', padding='same', kernel_initializer='he_normal')(XE4)\n",
    "XD4_from_XE3 = MaxPooling2D(pool_size=(2, 2))(XE3)\n",
    "XD4_from_XE3 = Conv2D(conv_num, 3, activation='relu', padding='same', kernel_initializer='he_normal')(XD4_from_XE3)\n",
    "XD4_from_XE2 = MaxPooling2D(pool_size=(4, 4))(XE2)\n",
    "XD4_from_XE2 = Conv2D(conv_num, 3, activation='relu', padding='same', kernel_initializer='he_normal')(XD4_from_XE2)\n",
    "XD4_from_XE1 = MaxPooling2D(pool_size=(8, 8))(XE1)\n",
    "XD4_from_XE1 = Conv2D(conv_num, 3, activation='relu', padding='same', kernel_initializer='he_normal')(XD4_from_XE1)\n",
    "XD4 = concatenate([XD4_from_XE5, XD4_from_XE4, XD4_from_XE3, XD4_from_XE2, XD4_from_XE1], axis=-1)\n",
    "XD4 = Conv2D(320, 3, activation='relu', padding='same', kernel_initializer='he_normal')(XD4)\n",
    "XD4 = BatchNormalization()(XD4)\n",
    "XD4 = ReLU()(XD4)\n",
    "\n",
    "XD3_from_XE5 = UpSampling2D(size=(4, 4), interpolation='bilinear')(XE5)\n",
    "XD3_from_XE5 = Conv2D(conv_num, 3, activation='relu', padding='same', kernel_initializer='he_normal')(XD3_from_XE5)\n",
    "XD3_from_XD4 = UpSampling2D(size=(2, 2), interpolation='bilinear')(XD4)\n",
    "XD3_from_XD4 = Conv2D(conv_num, 3, activation='relu', padding='same', kernel_initializer='he_normal')(XD3_from_XD4)\n",
    "XD3_from_XE3 = Conv2D(conv_num, 3, activation='relu', padding='same', kernel_initializer='he_normal')(XE3)\n",
    "XD3_from_XE2 = MaxPooling2D(pool_size=(2, 2))(XE2)\n",
    "XD3_from_XE2 = Conv2D(conv_num, 3, activation='relu', padding='same', kernel_initializer='he_normal')(XD3_from_XE2)\n",
    "XD3_from_XE1 = MaxPooling2D(pool_size=(4, 4))(XE1)\n",
    "XD3_from_XE1 = Conv2D(conv_num, 3, activation='relu', padding='same', kernel_initializer='he_normal')(XD3_from_XE1)\n",
    "XD3 = concatenate([XD3_from_XE5, XD3_from_XD4, XD3_from_XE3, XD3_from_XE2, XD3_from_XE1], axis=-1)\n",
    "XD3 = Conv2D(320, 3, activation='relu', padding='same', kernel_initializer='he_normal')(XD3)\n",
    "XD3 = BatchNormalization()(XD3)\n",
    "XD3 = ReLU()(XD3)\n",
    "\n",
    "XD2_from_XE5 = UpSampling2D(size=(8, 8), interpolation='bilinear')(XE5)\n",
    "XD2_from_XE5 = Conv2D(conv_num, 3, activation='relu', padding='same', kernel_initializer='he_normal')(XD2_from_XE5)\n",
    "XD2_from_XE4 = UpSampling2D(size=(4, 4), interpolation='bilinear')(XE4)\n",
    "XD2_from_XE4 = Conv2D(conv_num, 3, activation='relu', padding='same', kernel_initializer='he_normal')(XD2_from_XE4)\n",
    "XD2_from_XD3 = UpSampling2D(size=(2, 2), interpolation='bilinear')(XD3)\n",
    "XD2_from_XD3 = Conv2D(conv_num, 3, activation='relu', padding='same', kernel_initializer='he_normal')(XD2_from_XD3)\n",
    "XD2_from_XE2 = Conv2D(conv_num, 3, activation='relu', padding='same', kernel_initializer='he_normal')(XE2)\n",
    "XD2_from_XE1 = MaxPooling2D(pool_size=(2, 2))(XE1)\n",
    "XD2_from_XE1 = Conv2D(conv_num, 3, activation='relu', padding='same', kernel_initializer='he_normal')(XD2_from_XE1)\n",
    "XD2 = concatenate([XD2_from_XE5, XD2_from_XE4, XD2_from_XD3, XD2_from_XE2, XD2_from_XE1], axis=-1)\n",
    "XD2 = Conv2D(320, 3, activation='relu', padding='same', kernel_initializer='he_normal')(XD2)\n",
    "XD2 = BatchNormalization()(XD2)\n",
    "XD2 = ReLU()(XD2)\n",
    "\n",
    "XD1_from_XE5 = UpSampling2D(size=(16, 16), interpolation='bilinear')(XE5)\n",
    "XD1_from_XE5 = Conv2D(conv_num, 3, activation='relu', padding='same', kernel_initializer='he_normal')(XD1_from_XE5)\n",
    "XD1_from_XE4 = UpSampling2D(size=(8, 8), interpolation='bilinear')(XE4)\n",
    "XD1_from_XE4 = Conv2D(conv_num, 3, activation='relu', padding='same', kernel_initializer='he_normal')(XD1_from_XE4)\n",
    "XD1_from_XE3 = UpSampling2D(size=(4, 4), interpolation='bilinear')(XE3)\n",
    "XD1_from_XE3 = Conv2D(conv_num, 3, activation='relu', padding='same', kernel_initializer='he_normal')(XD1_from_XE3)\n",
    "XD1_from_XD2 = UpSampling2D(size=(2, 2), interpolation='bilinear')(XD2)\n",
    "XD1_from_XD2 = Conv2D(conv_num, 3, activation='relu', padding='same', kernel_initializer='he_normal')(XD1_from_XD2)\n",
    "XD1_from_XE1 = Conv2D(conv_num, 3, activation='relu', padding='same', kernel_initializer='he_normal')(XE1)\n",
    "XD1 = concatenate([XD1_from_XE5, XD1_from_XE4, XD1_from_XE3, XD1_from_XD2, XD1_from_XE1], axis=-1)\n",
    "XD1 = Conv2D(320, 3, activation='relu', padding='same', kernel_initializer='he_normal')(XD1)\n",
    "XD1 = BatchNormalization()(XD1)\n",
    "XD1 = ReLU()(XD1)\n",
    "\n",
    "out = Conv2D(conv_num * 5, 3, activation='sigmoid', padding='same', kernel_initializer='he_normal')(XD1)\n",
    "out = Conv2D(1, 3, activation='sigmoid', padding='same', kernel_initializer='he_normal')(out)\n",
    "\n",
    "# Create the U-Net model\n",
    "mod = Model(inputs=inputs, outputs=out)\n",
    "\n",
    "# Compile the model and specify the loss and optimizer as needed\n",
    "# (You can use binary cross-entropy if this is a binary segmentation task)\n",
    "mod.compile(optimizer='adam', loss='binary_crossentropy', metrics=['accuracy'])\n",
    "\n",
    "# Print model summary\n",
    "mod.summary()"
   ]
  },
  {
   "cell_type": "code",
   "execution_count": 13,
   "id": "6c246bbe",
   "metadata": {
    "scrolled": false
   },
   "outputs": [
    {
     "name": "stdout",
     "output_type": "stream",
     "text": [
      "Epoch 1/25\n",
      "76/76 [==============================] - 48s 463ms/step - loss: 0.0800 - accuracy: 0.9689 - val_loss: 0.1717 - val_accuracy: 0.9230\n",
      "Epoch 2/25\n",
      "76/76 [==============================] - 36s 468ms/step - loss: 0.0818 - accuracy: 0.9681 - val_loss: 0.1333 - val_accuracy: 0.9414\n",
      "Epoch 3/25\n",
      "76/76 [==============================] - 36s 471ms/step - loss: 0.0776 - accuracy: 0.9698 - val_loss: 0.1061 - val_accuracy: 0.9560\n",
      "Epoch 4/25\n",
      "76/76 [==============================] - 36s 471ms/step - loss: 0.0788 - accuracy: 0.9692 - val_loss: 0.1105 - val_accuracy: 0.9559\n",
      "Epoch 5/25\n",
      "76/76 [==============================] - 36s 470ms/step - loss: 0.0762 - accuracy: 0.9700 - val_loss: 0.1241 - val_accuracy: 0.9591\n",
      "Epoch 6/25\n",
      "76/76 [==============================] - 36s 474ms/step - loss: 0.0723 - accuracy: 0.9714 - val_loss: 0.0837 - val_accuracy: 0.9680\n",
      "Epoch 7/25\n",
      "76/76 [==============================] - 36s 473ms/step - loss: 0.0723 - accuracy: 0.9714 - val_loss: 0.0860 - val_accuracy: 0.9649\n",
      "Epoch 8/25\n",
      "76/76 [==============================] - 36s 472ms/step - loss: 0.0721 - accuracy: 0.9717 - val_loss: 0.0809 - val_accuracy: 0.9688\n",
      "Epoch 9/25\n",
      "76/76 [==============================] - 36s 472ms/step - loss: 0.0710 - accuracy: 0.9717 - val_loss: 0.0770 - val_accuracy: 0.9693\n",
      "Epoch 10/25\n",
      "76/76 [==============================] - 36s 472ms/step - loss: 0.0674 - accuracy: 0.9732 - val_loss: 0.0789 - val_accuracy: 0.9680\n",
      "Epoch 11/25\n",
      "76/76 [==============================] - 36s 472ms/step - loss: 0.0670 - accuracy: 0.9731 - val_loss: 0.0687 - val_accuracy: 0.9722\n",
      "Epoch 12/25\n",
      "76/76 [==============================] - 36s 473ms/step - loss: 0.0667 - accuracy: 0.9732 - val_loss: 0.0764 - val_accuracy: 0.9695\n",
      "Epoch 13/25\n",
      "76/76 [==============================] - 36s 472ms/step - loss: 0.0649 - accuracy: 0.9738 - val_loss: 0.0711 - val_accuracy: 0.9717\n",
      "Epoch 14/25\n",
      "76/76 [==============================] - 36s 472ms/step - loss: 0.0628 - accuracy: 0.9744 - val_loss: 0.0753 - val_accuracy: 0.9702\n",
      "Epoch 15/25\n",
      "76/76 [==============================] - 36s 472ms/step - loss: 0.0655 - accuracy: 0.9733 - val_loss: 0.0723 - val_accuracy: 0.9708\n",
      "Epoch 16/25\n",
      "76/76 [==============================] - 36s 472ms/step - loss: 0.0645 - accuracy: 0.9737 - val_loss: 0.0785 - val_accuracy: 0.9682\n",
      "Epoch 17/25\n",
      "76/76 [==============================] - 36s 475ms/step - loss: 0.0618 - accuracy: 0.9747 - val_loss: 0.0703 - val_accuracy: 0.9723\n",
      "Epoch 18/25\n",
      "76/76 [==============================] - 36s 478ms/step - loss: 0.0610 - accuracy: 0.9751 - val_loss: 0.0675 - val_accuracy: 0.9731\n",
      "Epoch 19/25\n",
      "76/76 [==============================] - 36s 476ms/step - loss: 0.0583 - accuracy: 0.9761 - val_loss: 0.0647 - val_accuracy: 0.9736\n",
      "Epoch 20/25\n",
      "76/76 [==============================] - 36s 479ms/step - loss: 0.0583 - accuracy: 0.9760 - val_loss: 0.0853 - val_accuracy: 0.9688\n",
      "Epoch 21/25\n",
      "76/76 [==============================] - 36s 477ms/step - loss: 0.0578 - accuracy: 0.9763 - val_loss: 0.0725 - val_accuracy: 0.9720\n",
      "Epoch 22/25\n",
      "76/76 [==============================] - 36s 476ms/step - loss: 0.0563 - accuracy: 0.9768 - val_loss: 0.0671 - val_accuracy: 0.9738\n",
      "Epoch 23/25\n",
      "76/76 [==============================] - 36s 476ms/step - loss: 0.0539 - accuracy: 0.9780 - val_loss: 0.0705 - val_accuracy: 0.9729\n",
      "Epoch 24/25\n",
      "76/76 [==============================] - 36s 476ms/step - loss: 0.0529 - accuracy: 0.9783 - val_loss: 0.0683 - val_accuracy: 0.9728\n",
      "Epoch 25/25\n",
      "76/76 [==============================] - 36s 475ms/step - loss: 0.0509 - accuracy: 0.9791 - val_loss: 0.0733 - val_accuracy: 0.9726\n"
     ]
    }
   ],
   "source": [
    "results = mod.fit(X_train, Y_train, validation_split=0.1, batch_size=8, epochs=25)"
   ]
  },
  {
   "cell_type": "code",
   "execution_count": 14,
   "id": "cd197e18",
   "metadata": {},
   "outputs": [
    {
     "name": "stderr",
     "output_type": "stream",
     "text": [
      "100%|██████████| 670/670 [00:37<00:00, 17.90it/s]\n"
     ]
    }
   ],
   "source": [
    "from sklearn.metrics import accuracy_score\n",
    "\n",
    "# Assuming you have trained your U-Net model and have it stored in the 'model' variable\n",
    "\n",
    "# Create empty arrays to store predicted masks and ground truth masks\n",
    "predicted_masks = []\n",
    "ground_truth_masks = []\n",
    "\n",
    "for n, id_ in tqdm(enumerate(train_ids), total=len(train_ids)):\n",
    "    path = TRAIN_PATH + id_\n",
    "    img = X_train[n]  # Input image\n",
    "    img = np.expand_dims(img, axis=0)  # Expand dimensions to match model input shape\n",
    "    mask = mod.predict(img)  # Predict the mask\n",
    "\n",
    "    # Threshold the predicted mask (assuming binary output)\n",
    "    mask = (mask > 0.5).astype(np.uint8)\n",
    "\n",
    "    predicted_masks.append(mask)\n",
    "    ground_truth_masks.append(Y_train[n])\n",
    "\n",
    "# Convert the lists of masks to numpy arrays\n",
    "predicted_masks = np.array(predicted_masks)\n",
    "ground_truth_masks = np.array(ground_truth_masks)\n",
    "\n",
    "# Flatten the masks to 1D arrays\n",
    "predicted_masks_flat = predicted_masks.reshape(-1)\n",
    "ground_truth_masks_flat = ground_truth_masks.reshape(-1)\n"
   ]
  },
  {
   "cell_type": "code",
   "execution_count": 15,
   "id": "9b49b05c",
   "metadata": {},
   "outputs": [
    {
     "name": "stdout",
     "output_type": "stream",
     "text": [
      "Accuracy on the training set for U-net++ model: 97.7%\n"
     ]
    }
   ],
   "source": [
    "# Calculate the accuracy score\n",
    "accuracy = accuracy_score(ground_truth_masks_flat, predicted_masks_flat)\n",
    "\n",
    "accuracy_percentage = accuracy * 100\n",
    "print(f\"Accuracy on the training set for U-net++ model: {accuracy_percentage:.1f}%\")"
   ]
  },
  {
   "cell_type": "code",
   "execution_count": 16,
   "id": "f79cae75",
   "metadata": {
    "scrolled": false
   },
   "outputs": [
    {
     "name": "stdout",
     "output_type": "stream",
     "text": [
      "19/19 [==============================] - 51s 2s/step\n",
      "3/3 [==============================] - 1s 502ms/step\n",
      "3/3 [==============================] - 1s 491ms/step\n"
     ]
    },
    {
     "data": {
      "image/png": "[encoded data removed]",
      "text/plain": [
       "<Figure size 432x288 with 1 Axes>"
      ]
     },
     "metadata": {
      "needs_background": "light"
     },
     "output_type": "display_data"
    },
    {
     "data": {
      "image/png": "[encoded data removed]",
      "text/plain": [
       "<Figure size 432x288 with 1 Axes>"
      ]
     },
     "metadata": {
      "needs_background": "light"
     },
     "output_type": "display_data"
    },
    {
     "name": "stderr",
     "output_type": "stream",
     "text": [
      "C:\\Users\\Admin\\anaconda3\\envs\\gputest\\lib\\site-packages\\skimage\\io\\_plugins\\matplotlib_plugin.py:150: UserWarning: Low image data range; displaying image with stretched contrast.\n",
      "  lo, hi, cmap = _get_display_range(image)\n"
     ]
    },
    {
     "data": {
      "image/png": "[encoded data removed]",
      "text/plain": [
       "<Figure size 432x288 with 2 Axes>"
      ]
     },
     "metadata": {
      "needs_background": "light"
     },
     "output_type": "display_data"
    },
    {
     "data": {
      "image/png": "[encoded data removed]",
      "text/plain": [
       "<Figure size 432x288 with 1 Axes>"
      ]
     },
     "metadata": {
      "needs_background": "light"
     },
     "output_type": "display_data"
    },
    {
     "data": {
      "image/png": "[encoded data removed]",
      "text/plain": [
       "<Figure size 432x288 with 1 Axes>"
      ]
     },
     "metadata": {
      "needs_background": "light"
     },
     "output_type": "display_data"
    },
    {
     "data": {
      "image/png": "[encoded data removed]",
      "text/plain": [
       "<Figure size 432x288 with 2 Axes>"
      ]
     },
     "metadata": {
      "needs_background": "light"
     },
     "output_type": "display_data"
    }
   ],
   "source": [
    "\n",
    "idx = random.randint(0, len(X_train))\n",
    "\n",
    "preds_train = mod.predict(X_train[:int(X_train.shape[0]*0.9)], verbose=1)\n",
    "preds_val = mod.predict(X_train[int(X_train.shape[0]*0.9):], verbose=1)\n",
    "preds_test = mod.predict(X_test, verbose=1)\n",
    "\n",
    "preds_train_t = (preds_train > 0.5).astype(np.uint8)\n",
    "preds_val_t = (preds_val > 0.5).astype(np.uint8)\n",
    "preds_test_t = (preds_test > 0.5).astype(np.uint8)\n",
    "\n",
    "# Perform a sanity check on some random training samples\n",
    "ix = random.randint(0, len(preds_train_t))\n",
    "imshow(X_train[ix])\n",
    "plt.show()\n",
    "imshow(np.squeeze(Y_train[ix]))\n",
    "plt.show()\n",
    "imshow(np.squeeze(preds_train_t[ix]))\n",
    "plt.show()\n",
    "\n",
    "# Perform a sanity check on some random validation samples\n",
    "ix = random.randint(0, len(preds_val_t))\n",
    "imshow(X_train[int(X_train.shape[0]*0.9):][ix])\n",
    "plt.show()\n",
    "imshow(np.squeeze(Y_train[int(Y_train.shape[0]*0.9):][ix]))\n",
    "plt.show()\n",
    "imshow(np.squeeze(preds_val_t[ix]))\n",
    "plt.show()\n"
   ]
  },
  {
   "cell_type": "code",
   "execution_count": null,
   "id": "11890976",
   "metadata": {},
   "outputs": [],
   "source": []
  }
 ],
 "metadata": {
  "kernelspec": {
   "display_name": "Python 3 (ipykernel)",
   "language": "python",
   "name": "python3"
  },
  "language_info": {
   "codemirror_mode": {
    "name": "ipython",
    "version": 3
   },
   "file_extension": ".py",
   "mimetype": "text/x-python",
   "name": "python",
   "nbconvert_exporter": "python",
   "pygments_lexer": "ipython3",
   "version": "3.11.4"
  }
 },
 "nbformat": 4,
 "nbformat_minor": 5
}
